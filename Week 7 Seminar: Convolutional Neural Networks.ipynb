{
  "nbformat": 4,
  "nbformat_minor": 0,
  "metadata": {
    "colab": {
      "name": "Untitled1.ipynb",
      "provenance": [],
      "authorship_tag": "ABX9TyNfESDrowm0M0AJZDDK375W",
      "include_colab_link": true
    },
    "kernelspec": {
      "name": "python3",
      "display_name": "Python 3"
    },
    "language_info": {
      "name": "python"
    }
  },
  "cells": [
    {
      "cell_type": "markdown",
      "metadata": {
        "id": "view-in-github",
        "colab_type": "text"
      },
      "source": [
        "<a href=\"https://colab.research.google.com/github/gwyoun05/Machine-Learning/blob/main/Week%207%20Seminar%3A%20Convolutional%20Neural%20Networks.ipynb\" target=\"_parent\"><img src=\"https://colab.research.google.com/assets/colab-badge.svg\" alt=\"Open In Colab\"/></a>"
      ]
    },
    {
      "cell_type": "markdown",
      "metadata": {
        "id": "Q8apfIOXyQhT"
      },
      "source": [
        "# **Week 7 Seminar: Convolutional Neural Networks**"
      ]
    },
    {
      "cell_type": "markdown",
      "metadata": {
        "id": "Vt1tPdwXyixD"
      },
      "source": [
        "### **Data**\n",
        "This project uses Fashion MNIST dataset with additive noise. It contains 70,000 grayscale images in 10 categories: class_names = `['T-shirt/top', 'Trouser', 'Pullover', 'Dress', 'Coat', 'Sandal', 'Shirt', 'Sneaker', 'Bag', 'Ankle boot']`. The images show individual items of clothing at low resolution (28 by 28 pixels). The dataset consists of three files.\n",
        "\n",
        "`NF_MNIST_train.npy` train images;\n",
        "`NF_MNIST_labels.npy `train labels;\n",
        "`NF_MNIST_test.npy` test images."
      ]
    },
    {
      "cell_type": "code",
      "metadata": {
        "id": "3iUgkaxDyNew"
      },
      "source": [
        ""
      ],
      "execution_count": null,
      "outputs": []
    },
    {
      "cell_type": "code",
      "metadata": {
        "id": "T-R9nG3-yP_w"
      },
      "source": [
        ""
      ],
      "execution_count": null,
      "outputs": []
    },
    {
      "cell_type": "code",
      "metadata": {
        "id": "nOdKt1l9yOun"
      },
      "source": [
        "train_images = np.load('NF_MNIST_train.npy')"
      ],
      "execution_count": null,
      "outputs": []
    }
  ]
}